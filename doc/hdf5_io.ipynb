{
 "cells": [
  {
   "cell_type": "code",
   "execution_count": 1,
   "metadata": {
    "collapsed": true
   },
   "outputs": [],
   "source": [
    "import os\n",
    "import numpy as np\n",
    "import pandas as pd\n",
    "import time\n",
    "from datetime import datetime as dt\n",
    "import matplotlib.pyplot as plt\n",
    "import matplotlib.lines as mpl_lines\n",
    "%matplotlib inline\n",
    "import tables\n",
    "import socket\n",
    "import tables"
   ]
  },
  {
   "cell_type": "code",
   "execution_count": 2,
   "metadata": {
    "collapsed": false
   },
   "outputs": [],
   "source": [
    "dt.fromtimestamp(int(1459196891.412194)).strftime(\"%Y-%m-%d %H:%M\")\n",
    "def pd_timestamp():\n",
    "    t = dt.utcnow()\n",
    "    return pd.Timestamp(np.datetime64(dt.utcnow()))\n",
    "    #return time.mktime(t.timetuple())+(t.microsecond/1e6)"
   ]
  },
  {
   "cell_type": "markdown",
   "metadata": {},
   "source": [
    "## Example data frame"
   ]
  },
  {
   "cell_type": "code",
   "execution_count": 656,
   "metadata": {
    "collapsed": false
   },
   "outputs": [
    {
     "name": "stdout",
     "output_type": "stream",
     "text": [
      "Index state: True\n"
     ]
    },
    {
     "data": {
      "text/html": [
       "<div>\n",
       "<table border=\"1\" class=\"dataframe\">\n",
       "  <thead>\n",
       "    <tr style=\"text-align: right;\">\n",
       "      <th></th>\n",
       "      <th>sid</th>\n",
       "      <th>value</th>\n",
       "    </tr>\n",
       "    <tr>\n",
       "      <th>timestamp</th>\n",
       "      <th></th>\n",
       "      <th></th>\n",
       "    </tr>\n",
       "  </thead>\n",
       "  <tbody>\n",
       "    <tr>\n",
       "      <th>2016-03-26 04:38:28+01:00</th>\n",
       "      <td>1</td>\n",
       "      <td>488.25</td>\n",
       "    </tr>\n",
       "    <tr>\n",
       "      <th>2016-03-26 04:38:38+01:00</th>\n",
       "      <td>1</td>\n",
       "      <td>490.00</td>\n",
       "    </tr>\n",
       "    <tr>\n",
       "      <th>2016-03-26 04:38:48+01:00</th>\n",
       "      <td>1</td>\n",
       "      <td>487.75</td>\n",
       "    </tr>\n",
       "    <tr>\n",
       "      <th>2016-03-26 04:38:58+01:00</th>\n",
       "      <td>1</td>\n",
       "      <td>489.25</td>\n",
       "    </tr>\n",
       "    <tr>\n",
       "      <th>2016-03-26 04:39:08+01:00</th>\n",
       "      <td>1</td>\n",
       "      <td>488.50</td>\n",
       "    </tr>\n",
       "  </tbody>\n",
       "</table>\n",
       "</div>"
      ],
      "text/plain": [
       "                          sid   value\n",
       "timestamp                            \n",
       "2016-03-26 04:38:28+01:00   1  488.25\n",
       "2016-03-26 04:38:38+01:00   1  490.00\n",
       "2016-03-26 04:38:48+01:00   1  487.75\n",
       "2016-03-26 04:38:58+01:00   1  489.25\n",
       "2016-03-26 04:39:08+01:00   1  488.50"
      ]
     },
     "execution_count": 656,
     "metadata": {},
     "output_type": "execute_result"
    }
   ],
   "source": [
    "# example data to work with\n",
    "df = pd.read_csv('../local/db/consolidation/bed_2016-03-26.csv', names=['timestamp', 'sid', 'value'])\n",
    "df.timestamp = df.timestamp.astype('datetime64[s]')\n",
    "df.value = df.value.astype(np.float16)\n",
    "df.set_index('timestamp', inplace=True)\n",
    "df = df.drop(['timestamp'])\n",
    "df = df.tz_localize('UTC').tz_convert('Europe/Amsterdam')\n",
    "# df.type.loc[df.type=='strain'] = 7\n",
    "# df.type.loc[df.type=='temp'] = 8\n",
    "# df.type.loc[df.type=='motion'] = 9;\n",
    "# df.type.astype('uint8');\n",
    "df.sid = df.sid.astype('category')\n",
    "# df.sid.cat.rename_categories([1,2,3]) # not inplace\n",
    "df.sid.cat.categories = list(range(len(df.sid.cat.categories)))\n",
    "print \"Index state:\", df.index.is_monotonic\n",
    "if not df.index.is_monotonic: df.sort_index(inplace=True)\n",
    "df.head()"
   ]
  },
  {
   "cell_type": "markdown",
   "metadata": {},
   "source": [
    "## Storing to disk\n",
    "Note that for using select over rows later, the to-be-used column needs to be declared as a DataColumn"
   ]
  },
  {
   "cell_type": "code",
   "execution_count": 661,
   "metadata": {
    "collapsed": false
   },
   "outputs": [
    {
     "name": "stdout",
     "output_type": "stream",
     "text": [
      "543 KiB\n"
     ]
    }
   ],
   "source": [
    "def store_df(df):\n",
    "    with pd.HDFStore('../local/db/test_store.h5', complevel=9, complib='blosc') as store:\n",
    "        store.put('data', df, format='table', data_columns=['sid'])\n",
    "store_df(df)\n",
    "print os.path.getsize('../local/db/test_store.h5')/2**10, 'KiB'"
   ]
  },
  {
   "cell_type": "markdown",
   "metadata": {},
   "source": [
    "## Accessing from disk (simple)"
   ]
  },
  {
   "cell_type": "code",
   "execution_count": 662,
   "metadata": {
    "collapsed": false
   },
   "outputs": [
    {
     "name": "stdout",
     "output_type": "stream",
     "text": [
      "<class 'pandas.io.pytables.HDFStore'>\n",
      "File path: ../local/db/test_store.h5\n",
      "/data                          frame_table  (typ->appendable,nrows->26336,ncols->2,indexers->[index],dc->[sid])\n",
      "/data/meta/sid/meta            series_table (typ->appendable,nrows->3,ncols->1,indexers->[index],dc->[values]) \n"
     ]
    },
    {
     "data": {
      "text/plain": [
       "timestamp\n",
       "2016-03-26 04:38:28+01:00    488.25\n",
       "2016-03-26 04:38:38+01:00    490.00\n",
       "2016-03-26 04:38:48+01:00    487.75\n",
       "2016-03-26 04:38:58+01:00    489.25\n",
       "2016-03-26 04:39:08+01:00    488.50\n",
       "Name: value, dtype: float16"
      ]
     },
     "execution_count": 662,
     "metadata": {},
     "output_type": "execute_result"
    }
   ],
   "source": [
    "store = pd.HDFStore('../local/db/test_store.h5')\n",
    "print store\n",
    "store.data.head()\n",
    "store.data.value[store.data.sid==1].head()"
   ]
  },
  {
   "cell_type": "markdown",
   "metadata": {},
   "source": [
    "## Accessing from disk (queries)"
   ]
  },
  {
   "cell_type": "code",
   "execution_count": 663,
   "metadata": {
    "collapsed": false
   },
   "outputs": [
    {
     "data": {
      "text/plain": [
       "<bound method HDFStore.close of <class 'pandas.io.pytables.HDFStore'>\n",
       "File path: ../local/db/test_store.h5\n",
       "/data                          frame_table  (typ->appendable,nrows->26336,ncols->2,indexers->[index],dc->[sid])\n",
       "/data/meta/sid/meta            series_table (typ->appendable,nrows->3,ncols->1,indexers->[index],dc->[values]) >"
      ]
     },
     "execution_count": 663,
     "metadata": {},
     "output_type": "execute_result"
    }
   ],
   "source": [
    "store = pd.HDFStore('../local/db/test_store.h5')\n",
    "store.select('data', where=\"sid=1\")\n",
    "store.close\n"
   ]
  },
  {
   "cell_type": "markdown",
   "metadata": {},
   "source": [
    "## Reading in as DataFrame"
   ]
  },
  {
   "cell_type": "code",
   "execution_count": 664,
   "metadata": {
    "collapsed": false
   },
   "outputs": [
    {
     "name": "stdout",
     "output_type": "stream",
     "text": [
      "sid      category\n",
      "value     float16\n",
      "dtype: object\n"
     ]
    },
    {
     "data": {
      "text/html": [
       "<div>\n",
       "<table border=\"1\" class=\"dataframe\">\n",
       "  <thead>\n",
       "    <tr style=\"text-align: right;\">\n",
       "      <th></th>\n",
       "      <th>sid</th>\n",
       "      <th>value</th>\n",
       "    </tr>\n",
       "    <tr>\n",
       "      <th>timestamp</th>\n",
       "      <th></th>\n",
       "      <th></th>\n",
       "    </tr>\n",
       "  </thead>\n",
       "  <tbody>\n",
       "    <tr>\n",
       "      <th>2016-03-28 18:31:53+02:00</th>\n",
       "      <td>1</td>\n",
       "      <td>488.2500</td>\n",
       "    </tr>\n",
       "    <tr>\n",
       "      <th>2016-03-28 18:32:03+02:00</th>\n",
       "      <td>1</td>\n",
       "      <td>492.7500</td>\n",
       "    </tr>\n",
       "    <tr>\n",
       "      <th>2016-03-28 18:32:13+02:00</th>\n",
       "      <td>1</td>\n",
       "      <td>487.7500</td>\n",
       "    </tr>\n",
       "    <tr>\n",
       "      <th>2016-03-28 18:32:23+02:00</th>\n",
       "      <td>2</td>\n",
       "      <td>22.3125</td>\n",
       "    </tr>\n",
       "    <tr>\n",
       "      <th>2016-03-28 18:32:23+02:00</th>\n",
       "      <td>1</td>\n",
       "      <td>491.7500</td>\n",
       "    </tr>\n",
       "  </tbody>\n",
       "</table>\n",
       "</div>"
      ],
      "text/plain": [
       "                          sid     value\n",
       "timestamp                              \n",
       "2016-03-28 18:31:53+02:00   1  488.2500\n",
       "2016-03-28 18:32:03+02:00   1  492.7500\n",
       "2016-03-28 18:32:13+02:00   1  487.7500\n",
       "2016-03-28 18:32:23+02:00   2   22.3125\n",
       "2016-03-28 18:32:23+02:00   1  491.7500"
      ]
     },
     "execution_count": 664,
     "metadata": {},
     "output_type": "execute_result"
    }
   ],
   "source": [
    "df = pd.read_hdf('../local/db/test_store.h5', 'data')\n",
    "print df.dtypes\n",
    "df.tail()\n"
   ]
  },
  {
   "cell_type": "markdown",
   "metadata": {},
   "source": [
    "## Appending rows to table (non-categorical sensor column!)"
   ]
  },
  {
   "cell_type": "code",
   "execution_count": 57,
   "metadata": {
    "collapsed": false
   },
   "outputs": [
    {
     "data": {
      "text/plain": [
       "{'index': dtype('int64'),\n",
       " 'nid': dtype('uint8'),\n",
       " 'sid': dtype('uint8'),\n",
       " 'values_block_0': dtype(('<f4', (1,)))}"
      ]
     },
     "execution_count": 57,
     "metadata": {},
     "output_type": "execute_result"
    }
   ],
   "source": [
    "h5file = tables.open_file('../local/db/consolidation/test.h5', \"a\")\n",
    "h5file.root.data.table.coldtypes\n"
   ]
  },
  {
   "cell_type": "code",
   "execution_count": 60,
   "metadata": {
    "collapsed": false
   },
   "outputs": [],
   "source": [
    "row = h5file.root.data.table.row\n",
    "for n in range(10000):\n",
    "    row['index'] = pd.Timestamp.now().to_datetime64()\n",
    "    row['values_block_0'] = n\n",
    "    row['sid'] = 1\n",
    "    row['nid'] = 0\n",
    "    row.append()\n",
    "h5file.root.data.table.flush()"
   ]
  },
  {
   "cell_type": "code",
   "execution_count": 29,
   "metadata": {
    "collapsed": false
   },
   "outputs": [
    {
     "name": "stdout",
     "output_type": "stream",
     "text": [
      "26336\n"
     ]
    }
   ],
   "source": [
    "with pd.HDFStore('../local/db/test_store.h5', 'r') as store:\n",
    "    print store.get_storer('data').nrows\n",
    "# doesn't work to get last row of node_id, methinks"
   ]
  },
  {
   "cell_type": "code",
   "execution_count": 3,
   "metadata": {
    "collapsed": false
   },
   "outputs": [
    {
     "name": "stdout",
     "output_type": "stream",
     "text": [
      "2016-03-31 01:06:19.030053888\n",
      "10 loops, best of 3: 21.7 ms per loop\n"
     ]
    }
   ],
   "source": [
    "with pd.HDFStore('../local/db/telemetry.h5', 'r') as store:\n",
    "    print store.select('data', where='nid==1').index[-1]\n",
    "%timeit pd.read_hdf('../local/db/telemetry.h5', 'data')\n"
   ]
  },
  {
   "cell_type": "code",
   "execution_count": 12,
   "metadata": {
    "collapsed": false
   },
   "outputs": [
    {
     "name": "stdout",
     "output_type": "stream",
     "text": [
      "10 loops, best of 3: 32.3 ms per loop\n"
     ]
    }
   ],
   "source": [
    "df = pd.read_hdf('../local/db/telemetry.h5', 'data')\n",
    "%timeit max(df.loc[df.sid==1].index)"
   ]
  },
  {
   "cell_type": "code",
   "execution_count": 38,
   "metadata": {
    "collapsed": false
   },
   "outputs": [
    {
     "name": "stdout",
     "output_type": "stream",
     "text": [
      "10 loops, best of 3: 110 ms per loop\n",
      "(Timestamp('2016-03-31 01:06:09.240590080'), Timestamp('2016-03-31 01:06:19.030053888'))\n"
     ]
    }
   ],
   "source": [
    "def t1(df):\n",
    "    g = df.groupby('nid')\n",
    "    return (max(g.get_group(0).index), max(g.get_group(1).index))\n",
    "df = pd.read_hdf('../local/db/telemetry.h5', 'data')\n",
    "%timeit t1(df)\n",
    "print t1(df)"
   ]
  },
  {
   "cell_type": "code",
   "execution_count": 39,
   "metadata": {
    "collapsed": false
   },
   "outputs": [
    {
     "name": "stdout",
     "output_type": "stream",
     "text": [
      "100 loops, best of 3: 8.82 ms per loop\n",
      "(Timestamp('2016-03-31 01:06:09.240590080'), Timestamp('2016-03-31 01:06:19.030053888'))\n"
     ]
    }
   ],
   "source": [
    "def t2(df):\n",
    "    df.sort_index(inplace=True)\n",
    "    g = df.groupby('nid')\n",
    "    return (g.get_group(0).index[-1], g.get_group(1).index[-1])\n",
    "df = pd.read_hdf('../local/db/telemetry.h5', 'data')\n",
    "%timeit t2(df)\n",
    "print t2(df)"
   ]
  },
  {
   "cell_type": "code",
   "execution_count": 40,
   "metadata": {
    "collapsed": false
   },
   "outputs": [
    {
     "name": "stdout",
     "output_type": "stream",
     "text": [
      "10 loops, best of 3: 105 ms per loop\n",
      "(Timestamp('2016-03-31 01:06:09.240590080'), Timestamp('2016-03-31 01:06:19.030053888'))\n"
     ]
    }
   ],
   "source": [
    "def t3(df):\n",
    "    return (max(df.loc[df.nid==0].index), max(df.loc[df.nid==1].index))\n",
    "df = pd.read_hdf('../local/db/telemetry.h5', 'data')\n",
    "%timeit t3(df)\n",
    "print t3(df)"
   ]
  },
  {
   "cell_type": "code",
   "execution_count": 50,
   "metadata": {
    "collapsed": false
   },
   "outputs": [
    {
     "name": "stdout",
     "output_type": "stream",
     "text": [
      "100 loops, best of 3: 8.79 ms per loop\n",
      "{0: Timestamp('2016-03-31 01:06:09.240590080'), 1: Timestamp('2016-03-31 01:06:19.030053888')}\n"
     ]
    }
   ],
   "source": [
    "def t4(df):\n",
    "    df.sort_index(inplace=True)\n",
    "    g = df.groupby('nid')\n",
    "    return {k: g.get_group(k).index[-1] for k in [0, 1]}\n",
    "df = pd.read_hdf('../local/db/telemetry.h5', 'data')\n",
    "%timeit t4(df)\n",
    "print t4(df)"
   ]
  },
  {
   "cell_type": "code",
   "execution_count": 51,
   "metadata": {
    "collapsed": false
   },
   "outputs": [
    {
     "name": "stdout",
     "output_type": "stream",
     "text": [
      "1 loop, best of 3: 465 ms per loop\n",
      "{0: Timestamp('2016-03-31 01:06:09.240590080'), 1: Timestamp('2016-03-31 01:06:19.030053888')}\n"
     ]
    }
   ],
   "source": [
    "### WTF?! \n",
    "def t5(df):\n",
    "    df.sort_index(inplace=True)\n",
    "    g = df.groupby('nid')\n",
    "    return {k: g.get_group(k).index[-1] for k in g.groups}\n",
    "df = pd.read_hdf('../local/db/telemetry.h5', 'data')\n",
    "%timeit t5(df)\n",
    "print t5(df)"
   ]
  },
  {
   "cell_type": "code",
   "execution_count": 55,
   "metadata": {
    "collapsed": false
   },
   "outputs": [
    {
     "name": "stdout",
     "output_type": "stream",
     "text": [
      "10 loops, best of 3: 20.3 ms per loop\n",
      "{0: Timestamp('2016-03-31 01:06:09.240590080'), 1: Timestamp('2016-03-31 01:06:19.030053888')}\n"
     ]
    }
   ],
   "source": [
    "### WTF?! \n",
    "def t6(df):\n",
    "    df.sort_index(inplace=True)\n",
    "    g = df.groupby('nid')\n",
    "    return {k: g.get_group(k).index[-1] for k in set(df.nid)}\n",
    "df = pd.read_hdf('../local/db/telemetry.h5', 'data')\n",
    "%timeit t6(df)\n",
    "print t6(df)\n",
    "%timeit set(df.nid)"
   ]
  }
 ],
 "metadata": {
  "kernelspec": {
   "display_name": "Python 2",
   "language": "python",
   "name": "python2"
  },
  "language_info": {
   "codemirror_mode": {
    "name": "ipython",
    "version": 2
   },
   "file_extension": ".py",
   "mimetype": "text/x-python",
   "name": "python",
   "nbconvert_exporter": "python",
   "pygments_lexer": "ipython2",
   "version": "2.7.11"
  }
 },
 "nbformat": 4,
 "nbformat_minor": 0
}
